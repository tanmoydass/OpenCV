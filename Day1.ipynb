{
  "nbformat": 4,
  "nbformat_minor": 0,
  "metadata": {
    "colab": {
      "provenance": [],
      "collapsed_sections": [],
      "authorship_tag": "ABX9TyMP3luCX1O392omiWXcIFgt"
    },
    "kernelspec": {
      "name": "python3",
      "display_name": "Python 3"
    },
    "language_info": {
      "name": "python"
    }
  },
  "cells": [
    {
      "cell_type": "code",
      "execution_count": null,
      "metadata": {
        "id": "oycFqavD05Vw"
      },
      "outputs": [],
      "source": [
        "#16th August 2022"
      ]
    },
    {
      "cell_type": "code",
      "source": [
        "#OPENCV/COMPUTER VISION (IMAGE PROCESSING)- WE USE PYTHON IDLE\n",
        "#Image Processing - Applying different operations on Images "
      ],
      "metadata": {
        "id": "-vUeMTRF1uD-"
      },
      "execution_count": null,
      "outputs": []
    },
    {
      "cell_type": "code",
      "source": [
        "#To install openCV library\n",
        "#1.In windows search >search for IDLE and right click and open file location\n",
        "#2.Right click on the selected shortcut and again open file location\n",
        "#3.Now in python 310 folder , search for scripts folder and go inside scripts folder\n",
        "#4.NOw copy the path\n",
        "#5.After copying the path , open CMD as admin\n",
        "#6.Now change the location of cmd using cd C:\\Users\\AMEEN MANNA\\AppData\\Local\\Programs\\Python\\Python310\\Scripts\n",
        "#7.Now once your cmd is inside scripts folder type-\n",
        "#pip install opencv-python\n",
        "#To check if libraries are installed or not - pip list"
      ],
      "metadata": {
        "id": "Fov9PnwM1wyH"
      },
      "execution_count": null,
      "outputs": []
    },
    {
      "cell_type": "code",
      "source": [
        "#1.READ AN IMAGE and DISPLAY it.\n",
        "\n",
        "import cv2 #importing the opencv library\n",
        "img = cv2.imread('abc.jpg') # reading the image and storing it in variable img\n",
        "cv2.imshow('OUTPUT1',img)#display the image\n",
        "\n",
        "cv2.waitKey(0)\n",
        "cv2.destroyAllWindows()"
      ],
      "metadata": {
        "id": "K48ieIx21_1K"
      },
      "execution_count": null,
      "outputs": []
    },
    {
      "cell_type": "code",
      "source": [
        "#2.CREATING A DUPLICATE IMAGE\n",
        "import cv2\n",
        "img = cv2.imread('abc.jpg') #read the image\n",
        "cv2.imshow('OUTPUT1',img)#We display the image\n",
        "cv2.imwrite('amn.png',img)#we create a new image and download it\n",
        "\n",
        "cv2.waitKey(0)\n",
        "cv2.destroyAllWindows()"
      ],
      "metadata": {
        "id": "g8JgTl1J2sAL"
      },
      "execution_count": null,
      "outputs": []
    },
    {
      "cell_type": "code",
      "source": [
        "#3.READ the INFORMATION ABOUT THE IMAGE\n",
        "import cv2\n",
        "img = cv2.imread('abc.jpg')#reading the image\n",
        "print(img.shape)\n",
        "\n",
        "\n",
        "#output:\n",
        "#(168, 300, 3)\n",
        "#168 - Height of image in pixels\n",
        "#300 - Width of image in pixels\n",
        "#3 - Channel number/depth(3 colors -RGB)"
      ],
      "metadata": {
        "id": "V3mErjrX91oM"
      },
      "execution_count": null,
      "outputs": []
    },
    {
      "cell_type": "code",
      "source": [
        "#4.GRAYSCALE IMAGE - BLACK and WHITE\n",
        "import cv2\n",
        "img = cv2.imread('abc.jpg')\n",
        "gray = cv2.cvtColor(img,cv2.COLOR_BGR2GRAY)\n",
        "cv2.imshow('NORMAL IMAGE',img)\n",
        "cv2.imshow('GRAY SCALE IMAGE',gray)\n",
        "\n",
        "cv2.waitKey(0)\n",
        "cv2.destroyAllWindows()\n",
        "\n",
        "#(or)\n",
        "\n",
        "#GRAYSCALE SHORTCUT\n",
        "import cv2\n",
        "img = cv2.imread('abc.jpg',0)#0 here converts the image into grayscale\n",
        "cv2.imshow('GRAY SCALE IMAGE',img)\n",
        "\n",
        "cv2.waitKey(0)\n",
        "cv2.destroyAllWindows()"
      ],
      "metadata": {
        "id": "82SPWsMT95Uo"
      },
      "execution_count": null,
      "outputs": []
    },
    {
      "cell_type": "code",
      "source": [
        "#5.BINARY IMAGE CONVERSION(HIGH CONTRAST)\n",
        "import cv2\n",
        "img = cv2.imread('abc.jpg',0)#0 converts image into grayscale\n",
        "cv2.imshow('GRAY SCALE IMAGE',img)\n",
        "cv2.waitKey(2000)\n",
        "\n",
        "\n",
        "ret,binary = cv2.threshold(img,127,255,cv2.THRESH_BINARY)\n",
        "#ret,binary are the 2 variables to be taken .Ret is a dummy variable\n",
        "#and Binary is the actual variable \n",
        "\n",
        "\n",
        "cv2.imshow('Binary',binary)\n",
        "cv2.waitKey(0)\n",
        "cv2.destroyAllWindows()"
      ],
      "metadata": {
        "id": "MsXIiRAlBcn4"
      },
      "execution_count": null,
      "outputs": []
    },
    {
      "cell_type": "code",
      "source": [
        "#6.SOLID BACKGROUND(WHITE or BLACK BACKGROUND)\n",
        "#WHITE\n",
        "import numpy as np\n",
        "import cv2\n",
        "\n",
        "img = np.ones((500,500,3))#500 is length , 500 is width in pixels,3 - depth\n",
        "#Img variable has an image with white background\n",
        "\n",
        "cv2.imshow('WHITE BACKGROUND',img)\n",
        "cv2.waitKey(0)\n",
        "cv2.destroyAllWindows()\n",
        "\n",
        "\n",
        "\n",
        "#BLACK\n",
        "import numpy as np\n",
        "import cv2\n",
        "\n",
        "img = np.zeros((500,500,3))#500 is length , 500 is width in pixels,3 - depth\n",
        "#Img variable has an image with white background\n",
        "\n",
        "cv2.imshow('BLACK BACKGROUND',img)\n",
        "cv2.waitKey(0)\n",
        "cv2.destroyAllWindows()"
      ],
      "metadata": {
        "id": "NZRvxWGqEQlO"
      },
      "execution_count": null,
      "outputs": []
    },
    {
      "cell_type": "code",
      "source": [
        "#7.SOLID COLORS(RGB)\n",
        "#RED COLOR\n",
        "import numpy as np\n",
        "import cv2\n",
        "img = np.zeros((450,670,3)) # BLACK BACKGROUND\n",
        "img[:] = 0,0,255 #Assigning the color (B,G,R)\n",
        "cv2.imshow('RED',img)\n",
        "cv2.waitKey(0)\n",
        "cv2.destroyAllWindows()\n",
        "\n",
        "\n",
        "#GREEN\n",
        "#7.SOLID COLORS(RGB)\n",
        "#RED COLOR\n",
        "import numpy as np\n",
        "import cv2\n",
        "img = np.zeros((450,670,3)) # BLACK BACKGROUND\n",
        "img[:] = 0,255,0 #Assigning the color (B,G,R)\n",
        "cv2.imshow('RED',img)\n",
        "cv2.waitKey(0)\n",
        "cv2.destroyAllWindows()"
      ],
      "metadata": {
        "id": "ayCAh_EDIK82"
      },
      "execution_count": null,
      "outputs": []
    }
  ]
}