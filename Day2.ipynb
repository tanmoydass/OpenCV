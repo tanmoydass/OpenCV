{
  "nbformat": 4,
  "nbformat_minor": 0,
  "metadata": {
    "colab": {
      "provenance": [],
      "collapsed_sections": [],
      "authorship_tag": "ABX9TyMuup922LvzPlFqvzR1/t89"
    },
    "kernelspec": {
      "name": "python3",
      "display_name": "Python 3"
    },
    "language_info": {
      "name": "python"
    }
  },
  "cells": [
    {
      "cell_type": "code",
      "execution_count": null,
      "metadata": {
        "id": "tshItiYLoIgC"
      },
      "outputs": [],
      "source": [
        "#17th August ,2022"
      ]
    },
    {
      "cell_type": "code",
      "source": [
        "#8.Let us create an image of 300x300 pixels\n",
        "#and divide the image into 3 parts of 3 different colors\n",
        "\n",
        "import cv2\n",
        "import numpy as np\n",
        "image = np.zeros((300,300,3))#creates a black image\n",
        "\n",
        "#image[y-coordinates,x-coordinates]\n",
        "image[0:100,0:300] = 0,255,0 # GREEN\n",
        "image[100:200,0:300] = 255,255,255 #WHITE\n",
        "image[200:300,0:300] = 0,0,255 #RED\n",
        "\n",
        "cv2.imshow('COLORS',image)\n",
        "cv2.waitKey(0)\n",
        "cv2.destroyAllWindows()\n"
      ],
      "metadata": {
        "id": "Eo1zJKcIy2ck"
      },
      "execution_count": null,
      "outputs": []
    },
    {
      "cell_type": "code",
      "source": [
        "#9.CHECKER BOARD\n",
        "import numpy as np\n",
        "import cv2\n",
        "\n",
        "img = np.zeros((200,200,3))#creates a black background of 200x200 pixels\n",
        "img[0:100,0:100] = 255,255,255#white\n",
        "img[100:200,100:200] = 255,255,255\n",
        "\n",
        "cv2.imshow('CHECKER BOARD',img)\n",
        "cv2.waitKey(0)\n",
        "cv2.destroyAllWindows()"
      ],
      "metadata": {
        "id": "NBC3RriYy67B"
      },
      "execution_count": null,
      "outputs": []
    },
    {
      "cell_type": "code",
      "source": [
        "#10.EDGE DETECTION - THERE ARE 3 TYPES\n",
        "#1.SOBEL\n",
        "#2.LAPLACIAN\n",
        "#3.CANNY (most accurate and widely used)\n",
        "\n",
        "\n",
        "#SOBEL\n",
        "import cv2\n",
        "img = cv2.imread('123.png',0)#0 converts image into grayscale\n",
        "sobel_x = cv2.Sobel(img,cv2.CV_8U,dx = 1,dy = 0 ,ksize = -1)\n",
        "#CV_8U - unsigned 8bit/pixel\n",
        "\n",
        "sobel_y = cv2.Sobel(img,cv2.CV_8U,dx = 0,dy = 1 ,ksize = -1)\n",
        "sobel = cv2.bitwise_or(sobel_x,sobel_y)\n",
        "\n",
        "cv2.imshow('Sobel X Image',sobel_x)\n",
        "cv2.imshow('Sobel Y Image',sobel_y)\n",
        "cv2.imshow('Sobel Image',sobel)\n",
        "\n",
        "cv2.waitKey(0)\n",
        "cv2.destroyAllWindows()"
      ],
      "metadata": {
        "id": "bXFuBtUFzAic"
      },
      "execution_count": null,
      "outputs": []
    },
    {
      "cell_type": "code",
      "source": [
        "#11. LAPLACIAN and CANNY\n",
        "import cv2\n",
        "img = cv2.imread('123.png',0)\n",
        "\n",
        "laplacian = cv2.Laplacian(img,cv2.CV_8U)\n",
        "cv2.imshow('LAPLACIAN IMAGE',laplacian)\n",
        "\n",
        "canny = cv2.Canny(img,125,200)\n",
        "cv2.imshow('Canny Image',canny)\n",
        "\n",
        "cv2.waitKey(0)\n",
        "cv2.destroyAllWindows()\n"
      ],
      "metadata": {
        "id": "qycJus0PYC9B"
      },
      "execution_count": null,
      "outputs": []
    },
    {
      "cell_type": "code",
      "source": [
        "#12.RESIZE / SCALING the image\n",
        "\n",
        "import cv2\n",
        "import numpy as np\n",
        "img = cv2.imread('abc.jpg')\n",
        "cv2.imshow('Original Image',img)\n",
        "cv2.waitKey(500)\n",
        "\n",
        "\n",
        "#Now let us reduce the scale of our image from 100 to 75%\n",
        "img1 = cv2.resize(img,None,fx = 0.75,fy = 0.75)\n",
        "cv2.imshow('Scale down',img1)\n",
        "\n",
        "#Now let us increase the scale of our image from 100 to 150%\n",
        "img2 = cv2.resize(img,None,fx = 1.5,fy = 1.5)\n",
        "cv2.imshow('Scale up',img2)\n",
        "\n",
        "#Now let us give custom dimensions(length and width given in pixels)\n",
        "img3 = cv2.resize(img,(200,60))\n",
        "cv2.imshow('Custom Dimensions',img3)\n",
        "\n",
        "cv2.waitKey(0)\n",
        "cv2.destroyAllWindows()\n"
      ],
      "metadata": {
        "id": "ouPCx9_8kK8-"
      },
      "execution_count": null,
      "outputs": []
    },
    {
      "cell_type": "code",
      "source": [
        "#13.RECTANGLE/SQUARE\n",
        "\n",
        "import cv2\n",
        "import numpy as np\n",
        "\n",
        "img = np.zeros((850,850,3))\n",
        "\n",
        "#src,starting point,end point,color,thickness\n",
        "cv2.rectangle(img,(200,200),(450,450),(0,255,0),5)\n",
        "\n",
        "\n",
        "cv2.imshow('Rectangle',img)\n",
        "cv2.waitKey(0)\n",
        "cv2.destroyAllWindows()\n"
      ],
      "metadata": {
        "id": "NjqVSQntkQQz"
      },
      "execution_count": null,
      "outputs": []
    }
  ]
}