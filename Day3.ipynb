{
  "nbformat": 4,
  "nbformat_minor": 0,
  "metadata": {
    "colab": {
      "provenance": [],
      "collapsed_sections": [],
      "authorship_tag": "ABX9TyPqK30J/zXD5dXH5CrjK/TQ"
    },
    "kernelspec": {
      "name": "python3",
      "display_name": "Python 3"
    },
    "language_info": {
      "name": "python"
    }
  },
  "cells": [
    {
      "cell_type": "code",
      "execution_count": null,
      "metadata": {
        "id": "b744I4eyjYaF"
      },
      "outputs": [],
      "source": [
        "#14.LIVE SKETCH FROM WEBCAM\n",
        "import cv2\n",
        "\n",
        "cap = cv2.VideoCapture(0) #0 reserves the default web cam port and 1 for pc or external cam\n",
        "\n",
        "while True:\n",
        "    ret,frame = cap.read() # so it is reading the video from the cap variable\n",
        "    #ret and frame are 2 variables to be taken ,BUt onlt frame will be used\n",
        "    #ret is dummy\n",
        "    cv2.imshow('My Live Sketch',frame)\n",
        "    if cv2.waitKey(1) == 13:\n",
        "        break\n",
        "\n",
        "cap.release() #It releases the port which was reserved\n",
        "#If cap.release is not done , it might corrupt your webcam drivers\n",
        "cv2.destroyAllWindows()"
      ]
    },
    {
      "cell_type": "code",
      "source": [
        "#15.MY CANNY SKETCH(EDGE DETECTION)\n",
        "import cv2\n",
        "\n",
        "cap = cv2.VideoCapture(0)\n",
        "\n",
        "while True:\n",
        "    ret,frame = cap.read()\n",
        "    canny = cv2.Canny(frame,20,159)\n",
        "    cv2.imshow('My Live Sketch',canny)\n",
        "    if cv2.waitKey(1) == ord('q'):\n",
        "        break\n",
        "cap.release()\n",
        "cv2.destroyAllWindows()"
      ],
      "metadata": {
        "id": "X_dUn7GIkE1M"
      },
      "execution_count": null,
      "outputs": []
    },
    {
      "cell_type": "code",
      "source": [
        "#please make sure abc.jpg,16.py and haarcascade_frontal_face are in the same folder\n",
        "#16.FACE DETECTION IN AN IMAGE\n",
        "import cv2\n",
        "\n",
        "\n",
        "face_cascade = cv2.CascadeClassifier('haarcascade_frontalface_default.xml')#importing haarcascade mode\n",
        "img = cv2.imread('abc.jpg')\n",
        "gray = cv2.cvtColor(img,cv2.COLOR_BGR2GRAY)\n",
        "\n",
        "faces = face_cascade.detectMultiScale(gray,1.1,9)\n",
        "#1.1 - ScalerFactor,9 is minNeighbors  -- Tuning Parameters\n",
        "#scalerfactor range between (0 to 1.5)\n",
        "\n",
        "\n",
        "for x,y,w,h in faces:\n",
        "    img = cv2.rectangle(img,(x,y),(x+w,y+h),(0,255,0),5)\n",
        "        #cv2.rectangle(src,start pt,end pt,color,thickness)\n",
        "\n",
        "\n",
        "cv2.imshow('Face Detection',img)\n",
        "cv2.waitKey(0)\n",
        "cv2.destroyAllWindows()\n",
        "    \n"
      ],
      "metadata": {
        "id": "0Q8O3nzAkHwS"
      },
      "execution_count": null,
      "outputs": []
    }
  ]
}